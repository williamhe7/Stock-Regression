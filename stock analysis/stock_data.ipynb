{
 "cells": [
  {
   "cell_type": "code",
   "execution_count": 1,
   "id": "50af2fa5",
   "metadata": {},
   "outputs": [],
   "source": [
    "import yfinance as yf"
   ]
  },
  {
   "cell_type": "code",
   "execution_count": null,
   "id": "991dfb00",
   "metadata": {},
   "outputs": [
    {
     "name": "stderr",
     "output_type": "stream",
     "text": [
      "C:\\Users\\hewil\\AppData\\Local\\Temp\\ipykernel_15916\\1726440225.py:5: FutureWarning: YF.download() has changed argument auto_adjust default to True\n",
      "  val = yf.download(ticker, start='2025-9-01', end='2025-10-01', interval='1mo')\n",
      "[*********************100%***********************]  1 of 1 completed\n"
     ]
    }
   ],
   "source": [
    "ticker = '^GSPC'\n",
    "\n",
    "#train = yf.download(ticker, period='max', interval='1mo')\n",
    "#test = yf.download(ticker, period='max', interval='1mo')\n",
    "val = yf.download(ticker, start='2025-09-01', end='2025-10-01', interval='1mo')\n",
    "\n",
    "#train.columns = train.columns.droplevel(\"Ticker\")\n",
    "#test.columns = test.columns.droplevel(\"Ticker\")\n",
    "val.columns = val.columns.droplevel(\"Ticker\")\n",
    "\n",
    "#train.to_csv('train.csv', index=False)\n",
    "#test.to_csv('test.csv', index=False)\n",
    "val.to_csv('validation.csv', index=False)"
   ]
  }
 ],
 "metadata": {
  "kernelspec": {
   "display_name": "Python 3",
   "language": "python",
   "name": "python3"
  },
  "language_info": {
   "codemirror_mode": {
    "name": "ipython",
    "version": 3
   },
   "file_extension": ".py",
   "mimetype": "text/x-python",
   "name": "python",
   "nbconvert_exporter": "python",
   "pygments_lexer": "ipython3",
   "version": "3.13.7"
  }
 },
 "nbformat": 4,
 "nbformat_minor": 5
}
